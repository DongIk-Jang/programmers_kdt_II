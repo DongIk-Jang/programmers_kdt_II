{
 "cells": [
  {
   "cell_type": "markdown",
   "metadata": {
    "id": "sSagrphlv3_J"
   },
   "source": [
    "# 1. 파이썬의 컴퓨팅 라이브러리, numpy\n",
    "**numpy를 이용해서 데이터를 다뤄봅시다!**"
   ]
  },
  {
   "cell_type": "markdown",
   "metadata": {
    "id": "ghJo5IQdv3_K"
   },
   "source": [
    "### Our Goal\n",
    "1. Numpy 시작하기\n",
    "    - prerequisite : Python의 List\n",
    "    - numpy import하기\n",
    "    - numpy.array\n",
    "\n",
    "2. Numpy로 연산하기\n",
    "    - Vector - Scalar : elementwise! (+, -, *, /)\n",
    "    - Vector - Vector : elementwise / broadcasting (+, -, *, /)\n",
    "    - Indexing & Slicing\n",
    "3. Example : Linear Algebra with Numpy\n",
    "    1. basics\n",
    "    - 영벡터 : `.zeros()`\n",
    "    - 일벡터 : `.ones()`\n",
    "    - 대각행렬 : `.diag()`\n",
    "    - 항등행렬 : `.eye()`\n",
    "    - 행렬곱 : `@` / `.dot()`\n",
    "  \n",
    "    2. furthermore\n",
    "    - 트레이스 : `.trace()`\n",
    "    - 행렬식 : `.linalg.det()`\n",
    "    - 역행렬 : `.linalg.inv()`\n",
    "    - 고유값 : `.linalg.eig()`\n"
   ]
  },
  {
   "cell_type": "markdown",
   "metadata": {
    "id": "XWLxDrc0v3_M"
   },
   "source": [
    "## I. Numpy 시작하기"
   ]
  },
  {
   "cell_type": "markdown",
   "metadata": {
    "id": "2z38U83yv3_M"
   },
   "source": [
    "### Remind : 리스트"
   ]
  },
  {
   "cell_type": "code",
   "execution_count": null,
   "metadata": {
    "id": "M3tjs9j9v3_M",
    "outputId": "2f22acd2-8566-4ff5-f05e-0d2d15a57006"
   },
   "outputs": [
    {
     "name": "stdout",
     "output_type": "stream",
     "text": [
      "[1, 'two', 3.0]\n"
     ]
    }
   ],
   "source": [
    "arr = [1, \"two\", 3.0]\n",
    "\n",
    "print(arr)"
   ]
  },
  {
   "cell_type": "markdown",
   "metadata": {
    "id": "6dfssybnv3_N"
   },
   "source": [
    "### numpy 모듈 불러오기"
   ]
  },
  {
   "cell_type": "code",
   "execution_count": null,
   "metadata": {
    "id": "IZ9u1Rbav3_N"
   },
   "outputs": [],
   "source": [
    "import numpy as np"
   ]
  },
  {
   "cell_type": "markdown",
   "metadata": {
    "id": "cCh_yOTTv3_N"
   },
   "source": [
    "### 왜 numpy를 사용해야 할까요?"
   ]
  },
  {
   "cell_type": "markdown",
   "metadata": {
    "id": "F_YcE0Plv3_O"
   },
   "source": [
    "**List**  \n",
    "% timeit : 작은 코드 세그먼트의 실행 속도를 측정해주는 기능. 모듈 앞에 %를 붙임으로써 사용하는 노트북 환경에서의 특수한 키워드"
   ]
  },
  {
   "cell_type": "code",
   "execution_count": null,
   "metadata": {
    "id": "BIVm2VKhv3_O",
    "outputId": "7cca4c71-1981-4902-d03a-182abdd21366"
   },
   "outputs": [
    {
     "name": "stdout",
     "output_type": "stream",
     "text": [
      "226 µs ± 25.2 µs per loop (mean ± std. dev. of 7 runs, 1000 loops each)\n"
     ]
    }
   ],
   "source": [
    "L = range(1000)\n",
    "\n",
    "%timeit [i**2 for i in L]"
   ]
  },
  {
   "cell_type": "markdown",
   "metadata": {
    "id": "M2YFdAQUv3_O"
   },
   "source": [
    "**numpy.array**"
   ]
  },
  {
   "cell_type": "code",
   "execution_count": null,
   "metadata": {
    "id": "XhAJLF4Zv3_O",
    "outputId": "eaf602e1-033f-40c7-e125-083e3eeb1958"
   },
   "outputs": [
    {
     "name": "stdout",
     "output_type": "stream",
     "text": [
      "1.27 µs ± 25.2 ns per loop (mean ± std. dev. of 7 runs, 1000000 loops each)\n"
     ]
    }
   ],
   "source": [
    "# 해당 범위의 데어터를 모두 array에 담아주는 numpy의 arange 사용\n",
    "N = np.arange(1000)\n",
    "\n",
    "%timeit N**2"
   ]
  },
  {
   "cell_type": "markdown",
   "metadata": {
    "id": "cSQJdYQUv3_P"
   },
   "source": [
    "### Numpy.array\n",
    "\n",
    "파이썬에 리스트가 있다면 numpy에는 array가 있다.  \n",
    "numpy의 Container, array  \n",
    "np.array(일반적으로 리스트)의 형태로 사용"
   ]
  },
  {
   "cell_type": "code",
   "execution_count": null,
   "metadata": {
    "id": "7uIMmLysv3_P",
    "outputId": "2217ef92-fe26-4c57-f1d2-bc6bf3cd3a14"
   },
   "outputs": [
    {
     "data": {
      "text/plain": [
       "array([1, 2, 3])"
      ]
     },
     "execution_count": 9,
     "metadata": {
      "tags": []
     },
     "output_type": "execute_result"
    }
   ],
   "source": [
    "arr = np.array([1,2,3])\n",
    "\n",
    "arr"
   ]
  },
  {
   "cell_type": "code",
   "execution_count": null,
   "metadata": {
    "id": "ZIqNAA0Sv3_P",
    "outputId": "5c334e24-3b5f-42a2-9cf0-275a277f3dfe"
   },
   "outputs": [
    {
     "data": {
      "text/plain": [
       "array([[1, 2, 3],\n",
       "       [4, 5, 6],\n",
       "       [7, 8, 9]])"
      ]
     },
     "execution_count": 10,
     "metadata": {
      "tags": []
     },
     "output_type": "execute_result"
    }
   ],
   "source": [
    "arr_2d = np.array([[1,2,3],[4,5,6],[7,8,9]])\n",
    "\n",
    "arr_2d"
   ]
  },
  {
   "cell_type": "code",
   "execution_count": null,
   "metadata": {
    "id": "sJ0UFKaTv3_Q",
    "outputId": "75232861-6035-47d2-c19d-0e1484330062"
   },
   "outputs": [
    {
     "data": {
      "text/plain": [
       "(3,)"
      ]
     },
     "execution_count": 13,
     "metadata": {
      "tags": []
     },
     "output_type": "execute_result"
    }
   ],
   "source": [
    "# array의 차원을 알려주는 기능\n",
    "arr.shape"
   ]
  },
  {
   "cell_type": "code",
   "execution_count": null,
   "metadata": {
    "id": "18h5RK1Tv3_Q",
    "outputId": "23f1d0bc-7b07-4ebe-ef15-d851aac82a54"
   },
   "outputs": [
    {
     "data": {
      "text/plain": [
       "(3, 3)"
      ]
     },
     "execution_count": 14,
     "metadata": {
      "tags": []
     },
     "output_type": "execute_result"
    }
   ],
   "source": [
    "arr_2d.shape"
   ]
  },
  {
   "cell_type": "markdown",
   "metadata": {
    "id": "An0A9VWRv3_Q"
   },
   "source": [
    "## II. Numpy로 연산하기"
   ]
  },
  {
   "cell_type": "markdown",
   "metadata": {
    "id": "lr21E2NPxSgj"
   },
   "source": [
    "## Vector와 Scalar 사이의 연산  \n",
    "벡터의 각 원소에 대해서 연산을 진행"
   ]
  },
  {
   "cell_type": "code",
   "execution_count": null,
   "metadata": {
    "colab": {
     "base_uri": "https://localhost:8080/"
    },
    "executionInfo": {
     "elapsed": 948,
     "status": "ok",
     "timestamp": 1620054532731,
     "user": {
      "displayName": "장동익",
      "photoUrl": "https://lh5.googleusercontent.com/-L7hRKvTmkOA/AAAAAAAAAAI/AAAAAAAAI9s/916u10gQtQ4/s64/photo.jpg",
      "userId": "04826555714916653793"
     },
     "user_tz": -540
    },
    "id": "Gs5SEGDbwAgC",
    "outputId": "a0df6858-db9c-4007-b522-19b1c5a67ea8"
   },
   "outputs": [
    {
     "name": "stdout",
     "output_type": "stream",
     "text": [
      "더하기 : [6 7 8]\n",
      "빼기 : [-4 -3 -2]\n",
      "곱하기 : [ 5 10 15]\n",
      "나누기 : [0.2 0.4 0.6]\n"
     ]
    }
   ],
   "source": [
    "x = np.array([1, 2, 3])\n",
    "c = 5\n",
    "\n",
    "print(\"더하기 : {}\".format(x+c))\n",
    "print(\"빼기 : {}\".format(x-c))\n",
    "print(\"곱하기 : {}\".format(x*c))\n",
    "print(\"나누기 : {}\".format(x/c))"
   ]
  },
  {
   "cell_type": "markdown",
   "metadata": {
    "id": "Z9Tp_Xgfxs1L"
   },
   "source": [
    "### Vector와 Vector 사이의 연산  \n",
    "벡터의 **같은 인덱스**끼리 연산이 진행된다."
   ]
  },
  {
   "cell_type": "code",
   "execution_count": null,
   "metadata": {
    "colab": {
     "base_uri": "https://localhost:8080/"
    },
    "executionInfo": {
     "elapsed": 1095,
     "status": "ok",
     "timestamp": 1620054710707,
     "user": {
      "displayName": "장동익",
      "photoUrl": "https://lh5.googleusercontent.com/-L7hRKvTmkOA/AAAAAAAAAAI/AAAAAAAAI9s/916u10gQtQ4/s64/photo.jpg",
      "userId": "04826555714916653793"
     },
     "user_tz": -540
    },
    "id": "oT5Ey4fawBoO",
    "outputId": "46f51c2b-83da-414b-89e0-e6748f2e4463"
   },
   "outputs": [
    {
     "name": "stdout",
     "output_type": "stream",
     "text": [
      "더하기 : [ 3 12 25]\n",
      "빼기 : [ -1  -6 -15]\n",
      "곱하기 : [  2  27 100]\n",
      "나누기 : [0.5        0.33333333 0.25      ]\n"
     ]
    }
   ],
   "source": [
    "y = np.array([1, 3, 5])\n",
    "z = np.array([2, 9, 20])\n",
    "\n",
    "print(\"더하기 : {}\".format(y+z))\n",
    "print(\"빼기 : {}\".format(y-z))\n",
    "print(\"곱하기 : {}\".format(y*z))\n",
    "print(\"나누기 : {}\".format(y/z))"
   ]
  },
  {
   "cell_type": "markdown",
   "metadata": {
    "id": "QdWi5EFiyh9P"
   },
   "source": [
    "### Array의 Indexing  \n",
    "Python의 List와 유사하게 진행  \n",
    "단, 파이썬에서는 w[0][1] 이런 식으로 썼다면 넘파이에서는 w[0,1] 이런 형식  \n",
    "[(row), (column)]  \n",
    "3차원 이상이라면 [a, b, c, ...]"
   ]
  },
  {
   "cell_type": "code",
   "execution_count": null,
   "metadata": {
    "colab": {
     "base_uri": "https://localhost:8080/"
    },
    "executionInfo": {
     "elapsed": 1448,
     "status": "ok",
     "timestamp": 1620055144600,
     "user": {
      "displayName": "장동익",
      "photoUrl": "https://lh5.googleusercontent.com/-L7hRKvTmkOA/AAAAAAAAAAI/AAAAAAAAI9s/916u10gQtQ4/s64/photo.jpg",
      "userId": "04826555714916653793"
     },
     "user_tz": -540
    },
    "id": "pgyh_sckwCT1",
    "outputId": "cf93f569-fb84-426e-82b4-f45642b1609d"
   },
   "outputs": [
    {
     "data": {
      "text/plain": [
       "1"
      ]
     },
     "execution_count": 10,
     "metadata": {
      "tags": []
     },
     "output_type": "execute_result"
    }
   ],
   "source": [
    "w = np.array([[1,2,3,4],[5,6,7,8],[9,10,11,12]])\n",
    "\n",
    "w[0, 0]"
   ]
  },
  {
   "cell_type": "code",
   "execution_count": null,
   "metadata": {
    "colab": {
     "base_uri": "https://localhost:8080/"
    },
    "executionInfo": {
     "elapsed": 729,
     "status": "ok",
     "timestamp": 1620055152570,
     "user": {
      "displayName": "장동익",
      "photoUrl": "https://lh5.googleusercontent.com/-L7hRKvTmkOA/AAAAAAAAAAI/AAAAAAAAI9s/916u10gQtQ4/s64/photo.jpg",
      "userId": "04826555714916653793"
     },
     "user_tz": -540
    },
    "id": "plOY9L4-z8je",
    "outputId": "aa700810-f432-457b-d74b-52b8aa8b7766"
   },
   "outputs": [
    {
     "data": {
      "text/plain": [
       "12"
      ]
     },
     "execution_count": 11,
     "metadata": {
      "tags": []
     },
     "output_type": "execute_result"
    }
   ],
   "source": [
    "w[2, 3]"
   ]
  },
  {
   "cell_type": "code",
   "execution_count": null,
   "metadata": {
    "colab": {
     "base_uri": "https://localhost:8080/"
    },
    "executionInfo": {
     "elapsed": 718,
     "status": "ok",
     "timestamp": 1620055193437,
     "user": {
      "displayName": "장동익",
      "photoUrl": "https://lh5.googleusercontent.com/-L7hRKvTmkOA/AAAAAAAAAAI/AAAAAAAAI9s/916u10gQtQ4/s64/photo.jpg",
      "userId": "04826555714916653793"
     },
     "user_tz": -540
    },
    "id": "8a6GDI8t0EhC",
    "outputId": "b7e1db29-d133-4f09-b1de-53170204a4d5"
   },
   "outputs": [
    {
     "data": {
      "text/plain": [
       "7"
      ]
     },
     "execution_count": 12,
     "metadata": {
      "tags": []
     },
     "output_type": "execute_result"
    }
   ],
   "source": [
    "w[1, 2]"
   ]
  },
  {
   "cell_type": "markdown",
   "metadata": {
    "id": "XkRhH8m70W44"
   },
   "source": [
    "### Array의 Slicing  \n",
    "Python의 List와 유사하게 진행"
   ]
  },
  {
   "cell_type": "code",
   "execution_count": null,
   "metadata": {
    "colab": {
     "base_uri": "https://localhost:8080/"
    },
    "executionInfo": {
     "elapsed": 721,
     "status": "ok",
     "timestamp": 1620055522392,
     "user": {
      "displayName": "장동익",
      "photoUrl": "https://lh5.googleusercontent.com/-L7hRKvTmkOA/AAAAAAAAAAI/AAAAAAAAI9s/916u10gQtQ4/s64/photo.jpg",
      "userId": "04826555714916653793"
     },
     "user_tz": -540
    },
    "id": "v7ri2zzJ0ctp",
    "outputId": "093759e7-d2b9-4e3f-aff9-7c21d3103cb4"
   },
   "outputs": [
    {
     "data": {
      "text/plain": [
       "array([[2, 3],\n",
       "       [6, 7]])"
      ]
     },
     "execution_count": 18,
     "metadata": {
      "tags": []
     },
     "output_type": "execute_result"
    }
   ],
   "source": [
    "w = np.array([[1,2,3,4],[5,6,7,8],[9,10,11,12]])\n",
    "\n",
    "# 2, 3, 6, 7 이라는 원소만 가져오고 싶을 때\n",
    "# numpy에서는 [행 범위, 열 범위] 로 표현\n",
    "w[0:2,1:3]"
   ]
  },
  {
   "cell_type": "code",
   "execution_count": null,
   "metadata": {
    "colab": {
     "base_uri": "https://localhost:8080/"
    },
    "executionInfo": {
     "elapsed": 817,
     "status": "ok",
     "timestamp": 1620055670959,
     "user": {
      "displayName": "장동익",
      "photoUrl": "https://lh5.googleusercontent.com/-L7hRKvTmkOA/AAAAAAAAAAI/AAAAAAAAI9s/916u10gQtQ4/s64/photo.jpg",
      "userId": "04826555714916653793"
     },
     "user_tz": -540
    },
    "id": "PE9sdZWm0dGI",
    "outputId": "c467406e-dbd5-48ae-b5bb-42ec3fe3fcb6"
   },
   "outputs": [
    {
     "data": {
      "text/plain": [
       "array([[1, 2, 3, 4],\n",
       "       [5, 6, 7, 8]])"
      ]
     },
     "execution_count": 20,
     "metadata": {
      "tags": []
     },
     "output_type": "execute_result"
    }
   ],
   "source": [
    "# 1,2,3,4, 5,6,7,8 가져오고 싶을 때\n",
    "w[0:2, 0:4]"
   ]
  },
  {
   "cell_type": "code",
   "execution_count": null,
   "metadata": {
    "colab": {
     "base_uri": "https://localhost:8080/"
    },
    "executionInfo": {
     "elapsed": 722,
     "status": "ok",
     "timestamp": 1620055676062,
     "user": {
      "displayName": "장동익",
      "photoUrl": "https://lh5.googleusercontent.com/-L7hRKvTmkOA/AAAAAAAAAAI/AAAAAAAAI9s/916u10gQtQ4/s64/photo.jpg",
      "userId": "04826555714916653793"
     },
     "user_tz": -540
    },
    "id": "fZ0Pjd6G18dP",
    "outputId": "e246c0e4-f6dd-42e4-a808-74a5d8d55d40"
   },
   "outputs": [
    {
     "data": {
      "text/plain": [
       "array([[1, 2, 3, 4],\n",
       "       [5, 6, 7, 8]])"
      ]
     },
     "execution_count": 21,
     "metadata": {
      "tags": []
     },
     "output_type": "execute_result"
    }
   ],
   "source": [
    "w[:2,:]"
   ]
  },
  {
   "cell_type": "code",
   "execution_count": null,
   "metadata": {
    "colab": {
     "base_uri": "https://localhost:8080/"
    },
    "executionInfo": {
     "elapsed": 724,
     "status": "ok",
     "timestamp": 1620055700662,
     "user": {
      "displayName": "장동익",
      "photoUrl": "https://lh5.googleusercontent.com/-L7hRKvTmkOA/AAAAAAAAAAI/AAAAAAAAI9s/916u10gQtQ4/s64/photo.jpg",
      "userId": "04826555714916653793"
     },
     "user_tz": -540
    },
    "id": "OP0ucO6Z19xZ",
    "outputId": "665ec47b-dd43-4882-b6e5-21471676400a"
   },
   "outputs": [
    {
     "data": {
      "text/plain": [
       "array([[1, 2, 3, 4],\n",
       "       [5, 6, 7, 8]])"
      ]
     },
     "execution_count": 22,
     "metadata": {
      "tags": []
     },
     "output_type": "execute_result"
    }
   ],
   "source": [
    "w[:2]"
   ]
  },
  {
   "cell_type": "code",
   "execution_count": null,
   "metadata": {
    "colab": {
     "base_uri": "https://localhost:8080/"
    },
    "executionInfo": {
     "elapsed": 718,
     "status": "ok",
     "timestamp": 1620055801164,
     "user": {
      "displayName": "장동익",
      "photoUrl": "https://lh5.googleusercontent.com/-L7hRKvTmkOA/AAAAAAAAAAI/AAAAAAAAI9s/916u10gQtQ4/s64/photo.jpg",
      "userId": "04826555714916653793"
     },
     "user_tz": -540
    },
    "id": "xiu_1jUF2GCL",
    "outputId": "95b07d5b-329e-48ee-e7f0-38ccd817f0f5"
   },
   "outputs": [
    {
     "data": {
      "text/plain": [
       "array([[ 3,  4],\n",
       "       [ 7,  8],\n",
       "       [11, 12]])"
      ]
     },
     "execution_count": 24,
     "metadata": {
      "tags": []
     },
     "output_type": "execute_result"
    }
   ],
   "source": [
    "# 3,4, 7,8, 11,12 가져오고 싶을 때\n",
    "w[0:3,2:4]"
   ]
  },
  {
   "cell_type": "code",
   "execution_count": null,
   "metadata": {
    "colab": {
     "base_uri": "https://localhost:8080/"
    },
    "executionInfo": {
     "elapsed": 1004,
     "status": "ok",
     "timestamp": 1620055811427,
     "user": {
      "displayName": "장동익",
      "photoUrl": "https://lh5.googleusercontent.com/-L7hRKvTmkOA/AAAAAAAAAAI/AAAAAAAAI9s/916u10gQtQ4/s64/photo.jpg",
      "userId": "04826555714916653793"
     },
     "user_tz": -540
    },
    "id": "DIJuK2pE2dX3",
    "outputId": "78adf6a2-892b-4b85-cdd0-8411d960ccea"
   },
   "outputs": [
    {
     "data": {
      "text/plain": [
       "array([[ 3,  4],\n",
       "       [ 7,  8],\n",
       "       [11, 12]])"
      ]
     },
     "execution_count": 25,
     "metadata": {
      "tags": []
     },
     "output_type": "execute_result"
    }
   ],
   "source": [
    "w[:,2:4]"
   ]
  },
  {
   "cell_type": "code",
   "execution_count": null,
   "metadata": {
    "id": "iHWMUWuN2fGP"
   },
   "outputs": [],
   "source": []
  },
  {
   "cell_type": "markdown",
   "metadata": {
    "id": "-RxD0f4_2n53"
   },
   "source": [
    "### Array의 Broadcasting  \n",
    "  \n",
    "  기본적으로 같은 Type의 data에 대해서만 연산이 적용 가능하지만 만약에 피연산자가 연산 가능하도록 변환이 가능하다면 연산이 가능하다. 이를 **Broadcasting**이라고 한다.  \n",
    "\n",
    "Numpy의 Array가 연산을 진행하는 특수한 방법! 연산의 용이성을 위해 개발되었다.  \n",
    "1. M X N, M X 1 : M X 1 행렬을 열을 복제해서 M X N으로 맞춰주고 계산을 진행.\n",
    "2. M X N, 1 X N : 1 X N 행렬의 행을 복제해서 M X N으로 맞춰주고 계산을 진행.\n",
    "3. M X 1, 1 X N : 각각 열과 행을 복제해서 둘다 M X N으로 맞춰주고 계산을 진행.  \n",
    "  \n",
    "여기서 연산은 사칙연산 모두 해당하며 곱하기 연산은 행렬의 곱 과는 다른 그냥 각 인덱스의 엘리먼트끼리 곱하는 연산을 말한다.\n"
   ]
  },
  {
   "cell_type": "markdown",
   "metadata": {
    "id": "WgJcOTZ9CDIB"
   },
   "source": [
    "#### 1. M by N, M by 1"
   ]
  },
  {
   "cell_type": "code",
   "execution_count": null,
   "metadata": {
    "colab": {
     "base_uri": "https://localhost:8080/"
    },
    "executionInfo": {
     "elapsed": 726,
     "status": "ok",
     "timestamp": 1620059060730,
     "user": {
      "displayName": "장동익",
      "photoUrl": "https://lh5.googleusercontent.com/-L7hRKvTmkOA/AAAAAAAAAAI/AAAAAAAAI9s/916u10gQtQ4/s64/photo.jpg",
      "userId": "04826555714916653793"
     },
     "user_tz": -540
    },
    "id": "oEkf8zB06Fv0",
    "outputId": "8a995177-90b3-4aae-c1a0-27a1f0791e4d"
   },
   "outputs": [
    {
     "name": "stdout",
     "output_type": "stream",
     "text": [
      "[[0]\n",
      " [1]\n",
      " [0]]\n",
      "[[1 2 3]\n",
      " [5 6 7]\n",
      " [7 8 9]]\n"
     ]
    }
   ],
   "source": [
    "a = np.array([[1,2,3],[4,5,6],[7,8,9]])\n",
    "x = np.array([0,1,0])\n",
    "\n",
    "# 여기서 x는 행벡터이므로 전치를 시켜줘야함\n",
    "x = x[:, None] # 행은 전부 가져오고 열은 None\n",
    "\n",
    "print(x)\n",
    "print(a+x)"
   ]
  },
  {
   "cell_type": "markdown",
   "metadata": {
    "id": "5TWVfA0QC-Om"
   },
   "source": [
    "####2. M by N, 1 by N"
   ]
  },
  {
   "cell_type": "code",
   "execution_count": null,
   "metadata": {
    "colab": {
     "base_uri": "https://localhost:8080/"
    },
    "executionInfo": {
     "elapsed": 838,
     "status": "ok",
     "timestamp": 1620059138811,
     "user": {
      "displayName": "장동익",
      "photoUrl": "https://lh5.googleusercontent.com/-L7hRKvTmkOA/AAAAAAAAAAI/AAAAAAAAI9s/916u10gQtQ4/s64/photo.jpg",
      "userId": "04826555714916653793"
     },
     "user_tz": -540
    },
    "id": "vyIQIOfiB0wB",
    "outputId": "ae1f7d9c-1891-4853-c950-f60efca3c113"
   },
   "outputs": [
    {
     "name": "stdout",
     "output_type": "stream",
     "text": [
      "[[ 0  2 -3]\n",
      " [ 0  5 -6]\n",
      " [ 0  8 -9]]\n"
     ]
    }
   ],
   "source": [
    "y = np.array([0, 1, -1])\n",
    "\n",
    "print(a * y)"
   ]
  },
  {
   "cell_type": "markdown",
   "metadata": {
    "id": "mGJL3aVlDTen"
   },
   "source": [
    "####3. M by 1, 1 by N"
   ]
  },
  {
   "cell_type": "code",
   "execution_count": null,
   "metadata": {
    "colab": {
     "base_uri": "https://localhost:8080/"
    },
    "executionInfo": {
     "elapsed": 729,
     "status": "ok",
     "timestamp": 1620059403193,
     "user": {
      "displayName": "장동익",
      "photoUrl": "https://lh5.googleusercontent.com/-L7hRKvTmkOA/AAAAAAAAAAI/AAAAAAAAI9s/916u10gQtQ4/s64/photo.jpg",
      "userId": "04826555714916653793"
     },
     "user_tz": -540
    },
    "id": "H_ByNRx5B07E",
    "outputId": "c29f1213-0ec7-4e5d-dae6-8345e43c6e28"
   },
   "outputs": [
    {
     "name": "stdout",
     "output_type": "stream",
     "text": [
      "[[ 3  1 -1]\n",
      " [ 4  2  0]\n",
      " [ 5  3  1]]\n"
     ]
    }
   ],
   "source": [
    "t = np.array([1, 2, 3]) # 이거 열 벡터로 바꿔줘야 함\n",
    "t = t[:, None] # Transpose\n",
    "u = np.array([2, 0, -2])\n",
    "\n",
    "print(t + u)\n",
    "\n",
    "# 1 1 1   2 0 -2\n",
    "# 2 2 2 + 2 0 -2\n",
    "# 3 3 3   2 0 -2"
   ]
  },
  {
   "cell_type": "markdown",
   "metadata": {
    "id": "PqtT1hV7v3_R"
   },
   "source": [
    "## III. Numpy로 선형대수 지식 끼얹기"
   ]
  },
  {
   "cell_type": "markdown",
   "metadata": {
    "id": "4hOw69pHFb8O"
   },
   "source": [
    "#### A. basics"
   ]
  },
  {
   "cell_type": "markdown",
   "metadata": {
    "id": "5kn1wQaDFm1L"
   },
   "source": [
    "#### 영벡터(행렬)  \n",
    "- 원소가 모두 0인 벡터(행렬)  \n",
    "- np.zeros(dim) 을 통해 생성, dim은 값, 혹은 튜플( , )"
   ]
  },
  {
   "cell_type": "code",
   "execution_count": null,
   "metadata": {
    "colab": {
     "base_uri": "https://localhost:8080/"
    },
    "executionInfo": {
     "elapsed": 712,
     "status": "ok",
     "timestamp": 1620059862434,
     "user": {
      "displayName": "장동익",
      "photoUrl": "https://lh5.googleusercontent.com/-L7hRKvTmkOA/AAAAAAAAAAI/AAAAAAAAI9s/916u10gQtQ4/s64/photo.jpg",
      "userId": "04826555714916653793"
     },
     "user_tz": -540
    },
    "id": "XVvMddpGFc8q",
    "outputId": "7a511acc-e163-47d9-e531-d3df9675f3a5"
   },
   "outputs": [
    {
     "data": {
      "text/plain": [
       "array([0., 0., 0.])"
      ]
     },
     "execution_count": 36,
     "metadata": {
      "tags": []
     },
     "output_type": "execute_result"
    }
   ],
   "source": [
    "np.zeros(3)"
   ]
  },
  {
   "cell_type": "code",
   "execution_count": null,
   "metadata": {
    "colab": {
     "base_uri": "https://localhost:8080/"
    },
    "executionInfo": {
     "elapsed": 703,
     "status": "ok",
     "timestamp": 1620059900490,
     "user": {
      "displayName": "장동익",
      "photoUrl": "https://lh5.googleusercontent.com/-L7hRKvTmkOA/AAAAAAAAAAI/AAAAAAAAI9s/916u10gQtQ4/s64/photo.jpg",
      "userId": "04826555714916653793"
     },
     "user_tz": -540
    },
    "id": "Qddy4ueuF9G_",
    "outputId": "624b0fe0-03f3-4928-a3c6-e36b5e9ab7b9"
   },
   "outputs": [
    {
     "data": {
      "text/plain": [
       "array([[0., 0., 0.],\n",
       "       [0., 0., 0.],\n",
       "       [0., 0., 0.]])"
      ]
     },
     "execution_count": 39,
     "metadata": {
      "tags": []
     },
     "output_type": "execute_result"
    }
   ],
   "source": [
    "np.zeros((3, 3))"
   ]
  },
  {
   "cell_type": "code",
   "execution_count": null,
   "metadata": {
    "colab": {
     "base_uri": "https://localhost:8080/"
    },
    "executionInfo": {
     "elapsed": 863,
     "status": "ok",
     "timestamp": 1620059898601,
     "user": {
      "displayName": "장동익",
      "photoUrl": "https://lh5.googleusercontent.com/-L7hRKvTmkOA/AAAAAAAAAAI/AAAAAAAAI9s/916u10gQtQ4/s64/photo.jpg",
      "userId": "04826555714916653793"
     },
     "user_tz": -540
    },
    "id": "jV3udkjbGBb-",
    "outputId": "0f00ef43-d3e5-4846-9b8c-51bb8570724c"
   },
   "outputs": [
    {
     "data": {
      "text/plain": [
       "array([[[0., 0., 0.],\n",
       "        [0., 0., 0.],\n",
       "        [0., 0., 0.]],\n",
       "\n",
       "       [[0., 0., 0.],\n",
       "        [0., 0., 0.],\n",
       "        [0., 0., 0.]],\n",
       "\n",
       "       [[0., 0., 0.],\n",
       "        [0., 0., 0.],\n",
       "        [0., 0., 0.]]])"
      ]
     },
     "execution_count": 38,
     "metadata": {
      "tags": []
     },
     "output_type": "execute_result"
    }
   ],
   "source": [
    "np.zeros((3, 3, 3))"
   ]
  },
  {
   "cell_type": "markdown",
   "metadata": {
    "id": "pYEiIWMcFdl1"
   },
   "source": [
    "#### 일벡터(행렬)  \n",
    "- 원소가 모두 1인 벡터(행렬)\n",
    "- np.ones(dim)을 통해 생성, dim은 값, 혹은 튜플( , )"
   ]
  },
  {
   "cell_type": "code",
   "execution_count": null,
   "metadata": {
    "colab": {
     "base_uri": "https://localhost:8080/"
    },
    "executionInfo": {
     "elapsed": 711,
     "status": "ok",
     "timestamp": 1620060026885,
     "user": {
      "displayName": "장동익",
      "photoUrl": "https://lh5.googleusercontent.com/-L7hRKvTmkOA/AAAAAAAAAAI/AAAAAAAAI9s/916u10gQtQ4/s64/photo.jpg",
      "userId": "04826555714916653793"
     },
     "user_tz": -540
    },
    "id": "QCkI9TatFd44",
    "outputId": "6ee019b6-2fff-45d8-e4bf-75082420dac4"
   },
   "outputs": [
    {
     "data": {
      "text/plain": [
       "array([1., 1.])"
      ]
     },
     "execution_count": 40,
     "metadata": {
      "tags": []
     },
     "output_type": "execute_result"
    }
   ],
   "source": [
    "np.ones(2)"
   ]
  },
  {
   "cell_type": "code",
   "execution_count": null,
   "metadata": {
    "colab": {
     "base_uri": "https://localhost:8080/"
    },
    "executionInfo": {
     "elapsed": 912,
     "status": "ok",
     "timestamp": 1620060042329,
     "user": {
      "displayName": "장동익",
      "photoUrl": "https://lh5.googleusercontent.com/-L7hRKvTmkOA/AAAAAAAAAAI/AAAAAAAAI9s/916u10gQtQ4/s64/photo.jpg",
      "userId": "04826555714916653793"
     },
     "user_tz": -540
    },
    "id": "k98dq3iTGkQw",
    "outputId": "01f9796b-b49f-41f9-f198-5bdf07d9c4ad"
   },
   "outputs": [
    {
     "data": {
      "text/plain": [
       "array([[1., 1., 1.],\n",
       "       [1., 1., 1.],\n",
       "       [1., 1., 1.]])"
      ]
     },
     "execution_count": 41,
     "metadata": {
      "tags": []
     },
     "output_type": "execute_result"
    }
   ],
   "source": [
    "np.ones((3, 3))"
   ]
  },
  {
   "cell_type": "markdown",
   "metadata": {
    "id": "eVZ0O-sHGuXQ"
   },
   "source": [
    "#### 대각행렬 (Diagonal Matrix)  \n",
    "- Main Diagonal을 제외한 성분이 0인 행렬\n",
    "- np.diag((main_diagonal))을 통해 생성"
   ]
  },
  {
   "cell_type": "code",
   "execution_count": null,
   "metadata": {
    "colab": {
     "base_uri": "https://localhost:8080/"
    },
    "executionInfo": {
     "elapsed": 742,
     "status": "ok",
     "timestamp": 1620060211373,
     "user": {
      "displayName": "장동익",
      "photoUrl": "https://lh5.googleusercontent.com/-L7hRKvTmkOA/AAAAAAAAAAI/AAAAAAAAI9s/916u10gQtQ4/s64/photo.jpg",
      "userId": "04826555714916653793"
     },
     "user_tz": -540
    },
    "id": "Axf3A_iBGkvK",
    "outputId": "591701e9-5134-4e6d-806d-1ffbf3b49409"
   },
   "outputs": [
    {
     "data": {
      "text/plain": [
       "array([[2, 0],\n",
       "       [0, 4]])"
      ]
     },
     "execution_count": 42,
     "metadata": {
      "tags": []
     },
     "output_type": "execute_result"
    }
   ],
   "source": [
    "np.diag((2, 4))"
   ]
  },
  {
   "cell_type": "code",
   "execution_count": null,
   "metadata": {
    "colab": {
     "base_uri": "https://localhost:8080/"
    },
    "executionInfo": {
     "elapsed": 715,
     "status": "ok",
     "timestamp": 1620060238118,
     "user": {
      "displayName": "장동익",
      "photoUrl": "https://lh5.googleusercontent.com/-L7hRKvTmkOA/AAAAAAAAAAI/AAAAAAAAI9s/916u10gQtQ4/s64/photo.jpg",
      "userId": "04826555714916653793"
     },
     "user_tz": -540
    },
    "id": "Wa8vZfiOHUwo",
    "outputId": "7dea5076-1045-4232-b3ff-3e113c9e3e6a"
   },
   "outputs": [
    {
     "data": {
      "text/plain": [
       "array([[1, 0, 0],\n",
       "       [0, 3, 0],\n",
       "       [0, 0, 5]])"
      ]
     },
     "execution_count": 43,
     "metadata": {
      "tags": []
     },
     "output_type": "execute_result"
    }
   ],
   "source": [
    "np.diag((1, 3, 5))"
   ]
  },
  {
   "cell_type": "markdown",
   "metadata": {
    "id": "LK28M_CUHYPx"
   },
   "source": [
    "#### 항등행렬 (Identity Matrix)  \n",
    "- Main Diagonal이 1인 대각행렬\n",
    "- np.eye(n, (dtype=int, uint, float, complex, ...))를 사용"
   ]
  },
  {
   "cell_type": "code",
   "execution_count": null,
   "metadata": {
    "colab": {
     "base_uri": "https://localhost:8080/"
    },
    "executionInfo": {
     "elapsed": 750,
     "status": "ok",
     "timestamp": 1620060498577,
     "user": {
      "displayName": "장동익",
      "photoUrl": "https://lh5.googleusercontent.com/-L7hRKvTmkOA/AAAAAAAAAAI/AAAAAAAAI9s/916u10gQtQ4/s64/photo.jpg",
      "userId": "04826555714916653793"
     },
     "user_tz": -540
    },
    "id": "tqlRyNnmHzbR",
    "outputId": "1101a847-d5e4-49fa-a4a6-0445608e3576"
   },
   "outputs": [
    {
     "data": {
      "text/plain": [
       "array([[1, 0],\n",
       "       [0, 1]])"
      ]
     },
     "execution_count": 45,
     "metadata": {
      "tags": []
     },
     "output_type": "execute_result"
    }
   ],
   "source": [
    "np.eye(2, dtype=int)"
   ]
  },
  {
   "cell_type": "code",
   "execution_count": null,
   "metadata": {
    "colab": {
     "base_uri": "https://localhost:8080/"
    },
    "executionInfo": {
     "elapsed": 753,
     "status": "ok",
     "timestamp": 1620060515103,
     "user": {
      "displayName": "장동익",
      "photoUrl": "https://lh5.googleusercontent.com/-L7hRKvTmkOA/AAAAAAAAAAI/AAAAAAAAI9s/916u10gQtQ4/s64/photo.jpg",
      "userId": "04826555714916653793"
     },
     "user_tz": -540
    },
    "id": "ixD0RfKJHySQ",
    "outputId": "3e38e512-9c82-47fc-ea0b-bcdddf634050"
   },
   "outputs": [
    {
     "data": {
      "text/plain": [
       "array([[1., 0., 0.],\n",
       "       [0., 1., 0.],\n",
       "       [0., 0., 1.]])"
      ]
     },
     "execution_count": 46,
     "metadata": {
      "tags": []
     },
     "output_type": "execute_result"
    }
   ],
   "source": [
    "np.eye(3)"
   ]
  },
  {
   "cell_type": "markdown",
   "metadata": {
    "id": "4_36x7ZpHZxI"
   },
   "source": [
    "#### 행렬곱 (Dot Product)  \n",
    "- 행렬간에 정의되는 곱연산\n",
    "- np.dot() or @ 사용"
   ]
  },
  {
   "cell_type": "code",
   "execution_count": null,
   "metadata": {
    "colab": {
     "base_uri": "https://localhost:8080/"
    },
    "executionInfo": {
     "elapsed": 735,
     "status": "ok",
     "timestamp": 1620060803271,
     "user": {
      "displayName": "장동익",
      "photoUrl": "https://lh5.googleusercontent.com/-L7hRKvTmkOA/AAAAAAAAAAI/AAAAAAAAI9s/916u10gQtQ4/s64/photo.jpg",
      "userId": "04826555714916653793"
     },
     "user_tz": -540
    },
    "id": "DJ8zRFF_Gk56",
    "outputId": "6ecc4690-ea22-4b76-9bab-f8c489c1a8da"
   },
   "outputs": [
    {
     "data": {
      "text/plain": [
       "array([[ 7, 33],\n",
       "       [14, 36]])"
      ]
     },
     "execution_count": 49,
     "metadata": {
      "tags": []
     },
     "output_type": "execute_result"
    }
   ],
   "source": [
    "mat_1 = np.array([[1, 4], [2, 3]])\n",
    "mat_2 = np.array([[7, 9], [0, 6]])\n",
    "\n",
    "mat_1.dot(mat_2)"
   ]
  },
  {
   "cell_type": "code",
   "execution_count": null,
   "metadata": {
    "colab": {
     "base_uri": "https://localhost:8080/"
    },
    "executionInfo": {
     "elapsed": 833,
     "status": "ok",
     "timestamp": 1620060840832,
     "user": {
      "displayName": "장동익",
      "photoUrl": "https://lh5.googleusercontent.com/-L7hRKvTmkOA/AAAAAAAAAAI/AAAAAAAAI9s/916u10gQtQ4/s64/photo.jpg",
      "userId": "04826555714916653793"
     },
     "user_tz": -540
    },
    "id": "bvL_qv6LJm8x",
    "outputId": "286688e5-c68e-4c14-e16c-e0f840befb57"
   },
   "outputs": [
    {
     "data": {
      "text/plain": [
       "array([[ 7, 33],\n",
       "       [14, 36]])"
      ]
     },
     "execution_count": 50,
     "metadata": {
      "tags": []
     },
     "output_type": "execute_result"
    }
   ],
   "source": [
    "mat_1 @ mat_2"
   ]
  },
  {
   "cell_type": "markdown",
   "metadata": {
    "id": "fM8zmOSbJz5x"
   },
   "source": [
    "#### 트레이스 (Trace)  \n",
    "- Main Diagonal의 합\n",
    "- np.trace()를 사용"
   ]
  },
  {
   "cell_type": "code",
   "execution_count": null,
   "metadata": {
    "colab": {
     "base_uri": "https://localhost:8080/"
    },
    "executionInfo": {
     "elapsed": 1157,
     "status": "ok",
     "timestamp": 1620061020752,
     "user": {
      "displayName": "장동익",
      "photoUrl": "https://lh5.googleusercontent.com/-L7hRKvTmkOA/AAAAAAAAAAI/AAAAAAAAI9s/916u10gQtQ4/s64/photo.jpg",
      "userId": "04826555714916653793"
     },
     "user_tz": -540
    },
    "id": "5resD6LAJnk3",
    "outputId": "96b755ad-02d8-4366-c84d-9845c93d4e6c"
   },
   "outputs": [
    {
     "data": {
      "text/plain": [
       "array([[1, 2, 3],\n",
       "       [4, 5, 6],\n",
       "       [7, 8, 9]])"
      ]
     },
     "execution_count": 51,
     "metadata": {
      "tags": []
     },
     "output_type": "execute_result"
    }
   ],
   "source": [
    "arr = np.array([[1, 2, 3], [4, 5, 6], [7, 8, 9]])\n",
    "\n",
    "arr"
   ]
  },
  {
   "cell_type": "code",
   "execution_count": null,
   "metadata": {
    "colab": {
     "base_uri": "https://localhost:8080/"
    },
    "executionInfo": {
     "elapsed": 736,
     "status": "ok",
     "timestamp": 1620061027783,
     "user": {
      "displayName": "장동익",
      "photoUrl": "https://lh5.googleusercontent.com/-L7hRKvTmkOA/AAAAAAAAAAI/AAAAAAAAI9s/916u10gQtQ4/s64/photo.jpg",
      "userId": "04826555714916653793"
     },
     "user_tz": -540
    },
    "id": "tBYGKb8mJn5n",
    "outputId": "1e9d9f81-8284-48bc-c377-478c59b8e7ab"
   },
   "outputs": [
    {
     "data": {
      "text/plain": [
       "15"
      ]
     },
     "execution_count": 52,
     "metadata": {
      "tags": []
     },
     "output_type": "execute_result"
    }
   ],
   "source": [
    "arr.trace()"
   ]
  },
  {
   "cell_type": "code",
   "execution_count": null,
   "metadata": {
    "colab": {
     "base_uri": "https://localhost:8080/"
    },
    "executionInfo": {
     "elapsed": 986,
     "status": "ok",
     "timestamp": 1620061047411,
     "user": {
      "displayName": "장동익",
      "photoUrl": "https://lh5.googleusercontent.com/-L7hRKvTmkOA/AAAAAAAAAAI/AAAAAAAAI9s/916u10gQtQ4/s64/photo.jpg",
      "userId": "04826555714916653793"
     },
     "user_tz": -540
    },
    "id": "u8U8V47iJoG9",
    "outputId": "6be13294-2ff8-47cd-fd5b-d1fb9d8fadbd"
   },
   "outputs": [
    {
     "data": {
      "text/plain": [
       "2"
      ]
     },
     "execution_count": 53,
     "metadata": {
      "tags": []
     },
     "output_type": "execute_result"
    }
   ],
   "source": [
    "np.eye(2, dtype=int).trace()"
   ]
  },
  {
   "cell_type": "markdown",
   "metadata": {
    "id": "zOZCNcnSKj_8"
   },
   "source": [
    "#### 행렬식 (Determinant)  \n",
    "- 행렬을 대표하는 값들 중 하나\n",
    "- 선형변환 과정에서 Vector의 Scaling 척도\n",
    "- np.linalg.det()으로 계산"
   ]
  },
  {
   "cell_type": "code",
   "execution_count": null,
   "metadata": {
    "colab": {
     "base_uri": "https://localhost:8080/"
    },
    "executionInfo": {
     "elapsed": 1194,
     "status": "ok",
     "timestamp": 1620061206332,
     "user": {
      "displayName": "장동익",
      "photoUrl": "https://lh5.googleusercontent.com/-L7hRKvTmkOA/AAAAAAAAAAI/AAAAAAAAI9s/916u10gQtQ4/s64/photo.jpg",
      "userId": "04826555714916653793"
     },
     "user_tz": -540
    },
    "id": "28K6YPdEKvDW",
    "outputId": "33956faf-faaa-49ea-b6b3-01c1e1424aff"
   },
   "outputs": [
    {
     "data": {
      "text/plain": [
       "array([[2, 3],\n",
       "       [1, 6]])"
      ]
     },
     "execution_count": 54,
     "metadata": {
      "tags": []
     },
     "output_type": "execute_result"
    }
   ],
   "source": [
    "arr_2 = np.array([[2, 3], [1, 6]])\n",
    "\n",
    "arr_2"
   ]
  },
  {
   "cell_type": "code",
   "execution_count": null,
   "metadata": {
    "colab": {
     "base_uri": "https://localhost:8080/"
    },
    "executionInfo": {
     "elapsed": 983,
     "status": "ok",
     "timestamp": 1620061219608,
     "user": {
      "displayName": "장동익",
      "photoUrl": "https://lh5.googleusercontent.com/-L7hRKvTmkOA/AAAAAAAAAAI/AAAAAAAAI9s/916u10gQtQ4/s64/photo.jpg",
      "userId": "04826555714916653793"
     },
     "user_tz": -540
    },
    "id": "jdR-iOMOKu2c",
    "outputId": "f6b50c82-9380-4fe7-cb39-229e1447ecb1"
   },
   "outputs": [
    {
     "data": {
      "text/plain": [
       "9.000000000000002"
      ]
     },
     "execution_count": 55,
     "metadata": {
      "tags": []
     },
     "output_type": "execute_result"
    }
   ],
   "source": [
    "np.linalg.det(arr_2)"
   ]
  },
  {
   "cell_type": "code",
   "execution_count": null,
   "metadata": {
    "colab": {
     "base_uri": "https://localhost:8080/"
    },
    "executionInfo": {
     "elapsed": 1247,
     "status": "ok",
     "timestamp": 1620061282898,
     "user": {
      "displayName": "장동익",
      "photoUrl": "https://lh5.googleusercontent.com/-L7hRKvTmkOA/AAAAAAAAAAI/AAAAAAAAI9s/916u10gQtQ4/s64/photo.jpg",
      "userId": "04826555714916653793"
     },
     "user_tz": -540
    },
    "id": "jc_mqKP1Kuem",
    "outputId": "95d0391b-7311-4f6c-fc93-706eabe6bf17"
   },
   "outputs": [
    {
     "data": {
      "text/plain": [
       "array([[1, 4, 7],\n",
       "       [2, 5, 8],\n",
       "       [3, 6, 9]])"
      ]
     },
     "execution_count": 56,
     "metadata": {
      "tags": []
     },
     "output_type": "execute_result"
    }
   ],
   "source": [
    "arr_3 = np.array([[1, 4, 7], [2, 5, 8], [3, 6, 9]])\n",
    "\n",
    "arr_3"
   ]
  },
  {
   "cell_type": "code",
   "execution_count": null,
   "metadata": {
    "colab": {
     "base_uri": "https://localhost:8080/"
    },
    "executionInfo": {
     "elapsed": 1060,
     "status": "ok",
     "timestamp": 1620061317974,
     "user": {
      "displayName": "장동익",
      "photoUrl": "https://lh5.googleusercontent.com/-L7hRKvTmkOA/AAAAAAAAAAI/AAAAAAAAI9s/916u10gQtQ4/s64/photo.jpg",
      "userId": "04826555714916653793"
     },
     "user_tz": -540
    },
    "id": "O_v0VLkQLXm4",
    "outputId": "f037f691-3a8e-4678-9fb6-82894efd53e5"
   },
   "outputs": [
    {
     "data": {
      "text/plain": [
       "0.0"
      ]
     },
     "execution_count": 57,
     "metadata": {
      "tags": []
     },
     "output_type": "execute_result"
    }
   ],
   "source": [
    "np.linalg.det(arr_3)"
   ]
  },
  {
   "cell_type": "markdown",
   "metadata": {
    "id": "DLdZQyW5MnmX"
   },
   "source": [
    "#### 역행렬 (Inverse Matrix)  \n",
    "- 행렬 A에 대해 AB = BA = I를 만족하는 행렬 B = A^-1\n",
    "- `np.linalg.inv()`으로 계산"
   ]
  },
  {
   "cell_type": "code",
   "execution_count": null,
   "metadata": {
    "colab": {
     "base_uri": "https://localhost:8080/"
    },
    "executionInfo": {
     "elapsed": 1557,
     "status": "ok",
     "timestamp": 1620061768820,
     "user": {
      "displayName": "장동익",
      "photoUrl": "https://lh5.googleusercontent.com/-L7hRKvTmkOA/AAAAAAAAAAI/AAAAAAAAI9s/916u10gQtQ4/s64/photo.jpg",
      "userId": "04826555714916653793"
     },
     "user_tz": -540
    },
    "id": "o1aV2y1QLXU0",
    "outputId": "153915fb-4936-43dc-e7ec-56a922b86173"
   },
   "outputs": [
    {
     "data": {
      "text/plain": [
       "array([[1, 4],\n",
       "       [2, 3]])"
      ]
     },
     "execution_count": 58,
     "metadata": {
      "tags": []
     },
     "output_type": "execute_result"
    }
   ],
   "source": [
    "mat = np.array([[1, 4], [2, 3]])\n",
    "\n",
    "mat"
   ]
  },
  {
   "cell_type": "code",
   "execution_count": null,
   "metadata": {
    "colab": {
     "base_uri": "https://localhost:8080/"
    },
    "executionInfo": {
     "elapsed": 752,
     "status": "ok",
     "timestamp": 1620061792604,
     "user": {
      "displayName": "장동익",
      "photoUrl": "https://lh5.googleusercontent.com/-L7hRKvTmkOA/AAAAAAAAAAI/AAAAAAAAI9s/916u10gQtQ4/s64/photo.jpg",
      "userId": "04826555714916653793"
     },
     "user_tz": -540
    },
    "id": "2ShJz8q8NN-a",
    "outputId": "58a7a9f5-0e30-4a98-e461-88093be0b491"
   },
   "outputs": [
    {
     "data": {
      "text/plain": [
       "array([[-0.6,  0.8],\n",
       "       [ 0.4, -0.2]])"
      ]
     },
     "execution_count": 59,
     "metadata": {
      "tags": []
     },
     "output_type": "execute_result"
    }
   ],
   "source": [
    "mat_inv = np.linalg.inv(mat)\n",
    "\n",
    "mat_inv"
   ]
  },
  {
   "cell_type": "code",
   "execution_count": null,
   "metadata": {
    "colab": {
     "base_uri": "https://localhost:8080/"
    },
    "executionInfo": {
     "elapsed": 1248,
     "status": "ok",
     "timestamp": 1620061804528,
     "user": {
      "displayName": "장동익",
      "photoUrl": "https://lh5.googleusercontent.com/-L7hRKvTmkOA/AAAAAAAAAAI/AAAAAAAAI9s/916u10gQtQ4/s64/photo.jpg",
      "userId": "04826555714916653793"
     },
     "user_tz": -540
    },
    "id": "Z2Pgde0iNNz4",
    "outputId": "6870a754-32da-48e6-de8d-b05c70f9407a"
   },
   "outputs": [
    {
     "data": {
      "text/plain": [
       "array([[ 1.00000000e+00,  0.00000000e+00],\n",
       "       [-1.11022302e-16,  1.00000000e+00]])"
      ]
     },
     "execution_count": 60,
     "metadata": {
      "tags": []
     },
     "output_type": "execute_result"
    }
   ],
   "source": [
    "mat @ mat_inv"
   ]
  },
  {
   "cell_type": "code",
   "execution_count": null,
   "metadata": {
    "colab": {
     "base_uri": "https://localhost:8080/"
    },
    "executionInfo": {
     "elapsed": 687,
     "status": "ok",
     "timestamp": 1620062109148,
     "user": {
      "displayName": "장동익",
      "photoUrl": "https://lh5.googleusercontent.com/-L7hRKvTmkOA/AAAAAAAAAAI/AAAAAAAAI9s/916u10gQtQ4/s64/photo.jpg",
      "userId": "04826555714916653793"
     },
     "user_tz": -540
    },
    "id": "TsiaKnvDNNnU",
    "outputId": "b904ad22-3252-49d9-81ff-2db97a0a8218"
   },
   "outputs": [
    {
     "data": {
      "text/plain": [
       "array([[ 1,  3,  5],\n",
       "       [ 7,  9, 11],\n",
       "       [13, 15, 17]])"
      ]
     },
     "execution_count": 67,
     "metadata": {
      "tags": []
     },
     "output_type": "execute_result"
    }
   ],
   "source": [
    "mat_3by3 = np.arange(1, 19, 2)\n",
    "mat_3by3 = mat_3by3.reshape((3, 3))\n",
    "mat_3by3"
   ]
  },
  {
   "cell_type": "code",
   "execution_count": null,
   "metadata": {
    "colab": {
     "base_uri": "https://localhost:8080/"
    },
    "executionInfo": {
     "elapsed": 1353,
     "status": "ok",
     "timestamp": 1620062112778,
     "user": {
      "displayName": "장동익",
      "photoUrl": "https://lh5.googleusercontent.com/-L7hRKvTmkOA/AAAAAAAAAAI/AAAAAAAAI9s/916u10gQtQ4/s64/photo.jpg",
      "userId": "04826555714916653793"
     },
     "user_tz": -540
    },
    "id": "RvueSDLJJoSB",
    "outputId": "0aa05c43-fef5-4b14-f544-2f1daa6b460c"
   },
   "outputs": [
    {
     "data": {
      "text/plain": [
       "array([[-2.81474977e+14,  5.62949953e+14, -2.81474977e+14],\n",
       "       [ 5.62949953e+14, -1.12589991e+15,  5.62949953e+14],\n",
       "       [-2.81474977e+14,  5.62949953e+14, -2.81474977e+14]])"
      ]
     },
     "execution_count": 68,
     "metadata": {
      "tags": []
     },
     "output_type": "execute_result"
    }
   ],
   "source": [
    "mat_3by3_inv = np.linalg.inv(mat_3by3)\n",
    "\n",
    "mat_3by3_inv"
   ]
  },
  {
   "cell_type": "markdown",
   "metadata": {
    "id": "AqN65HpXOkTi"
   },
   "source": [
    "#### 고유값과 고유벡터 (Eigenvalue and Eigenvector)  \n",
    "- 정방행렬(nxn) A에 대해 $Ax = \\lambda x$를 만족하는 상수 $\\lambda$와 이에 대응하는 벡터  \n",
    "- `np.linalg.eig()`으로 계산"
   ]
  },
  {
   "cell_type": "code",
   "execution_count": null,
   "metadata": {
    "colab": {
     "base_uri": "https://localhost:8080/"
    },
    "executionInfo": {
     "elapsed": 776,
     "status": "ok",
     "timestamp": 1620062474303,
     "user": {
      "displayName": "장동익",
      "photoUrl": "https://lh5.googleusercontent.com/-L7hRKvTmkOA/AAAAAAAAAAI/AAAAAAAAI9s/916u10gQtQ4/s64/photo.jpg",
      "userId": "04826555714916653793"
     },
     "user_tz": -540
    },
    "id": "mHB4SoCVOjN6",
    "outputId": "9665fa77-820c-40ba-d03d-f2c882264d5c"
   },
   "outputs": [
    {
     "data": {
      "text/plain": [
       "array([[ 2,  0, -2],\n",
       "       [ 1,  1, -2],\n",
       "       [ 0,  0,  1]])"
      ]
     },
     "execution_count": 69,
     "metadata": {
      "tags": []
     },
     "output_type": "execute_result"
    }
   ],
   "source": [
    "mat = np.array([[2, 0, -2], [1, 1, -2], [0, 0, 1]])\n",
    "\n",
    "mat"
   ]
  },
  {
   "cell_type": "code",
   "execution_count": null,
   "metadata": {
    "colab": {
     "base_uri": "https://localhost:8080/"
    },
    "executionInfo": {
     "elapsed": 862,
     "status": "ok",
     "timestamp": 1620062750758,
     "user": {
      "displayName": "장동익",
      "photoUrl": "https://lh5.googleusercontent.com/-L7hRKvTmkOA/AAAAAAAAAAI/AAAAAAAAI9s/916u10gQtQ4/s64/photo.jpg",
      "userId": "04826555714916653793"
     },
     "user_tz": -540
    },
    "id": "jSO5YGm_P7Yi",
    "outputId": "841e01cd-0cb5-4d22-9176-f4079149b155"
   },
   "outputs": [
    {
     "data": {
      "text/plain": [
       "(array([1., 2., 1.]), array([[0.        , 0.70710678, 0.89442719],\n",
       "        [1.        , 0.70710678, 0.        ],\n",
       "        [0.        , 0.        , 0.4472136 ]]))"
      ]
     },
     "execution_count": 71,
     "metadata": {
      "tags": []
     },
     "output_type": "execute_result"
    }
   ],
   "source": [
    "np.linalg.eig(mat) # 고유값과 고유벡터를 각각 리턴하는데 고유벡터는 열 기준으로 봐야한다."
   ]
  },
  {
   "cell_type": "markdown",
   "metadata": {
    "id": "eCZ2a9NmRCrd"
   },
   "source": [
    "Validation"
   ]
  },
  {
   "cell_type": "code",
   "execution_count": null,
   "metadata": {
    "colab": {
     "base_uri": "https://localhost:8080/"
    },
    "executionInfo": {
     "elapsed": 845,
     "status": "ok",
     "timestamp": 1620062828780,
     "user": {
      "displayName": "장동익",
      "photoUrl": "https://lh5.googleusercontent.com/-L7hRKvTmkOA/AAAAAAAAAAI/AAAAAAAAI9s/916u10gQtQ4/s64/photo.jpg",
      "userId": "04826555714916653793"
     },
     "user_tz": -540
    },
    "id": "uSPq5yGKP7EL",
    "outputId": "e1229165-d4be-4bf7-bafd-6aab0eecfc6a"
   },
   "outputs": [
    {
     "data": {
      "text/plain": [
       "array([1., 2., 1.])"
      ]
     },
     "execution_count": 72,
     "metadata": {
      "tags": []
     },
     "output_type": "execute_result"
    }
   ],
   "source": [
    "eig_val, eig_vec = np.linalg.eig(mat)\n",
    "\n",
    "eig_val"
   ]
  },
  {
   "cell_type": "code",
   "execution_count": null,
   "metadata": {
    "colab": {
     "base_uri": "https://localhost:8080/"
    },
    "executionInfo": {
     "elapsed": 1115,
     "status": "ok",
     "timestamp": 1620062838291,
     "user": {
      "displayName": "장동익",
      "photoUrl": "https://lh5.googleusercontent.com/-L7hRKvTmkOA/AAAAAAAAAAI/AAAAAAAAI9s/916u10gQtQ4/s64/photo.jpg",
      "userId": "04826555714916653793"
     },
     "user_tz": -540
    },
    "id": "Q-75IuIqRQU4",
    "outputId": "d7e75430-9c6a-4637-a0a7-8238b67bc5a1"
   },
   "outputs": [
    {
     "data": {
      "text/plain": [
       "array([[0.        , 0.70710678, 0.89442719],\n",
       "       [1.        , 0.70710678, 0.        ],\n",
       "       [0.        , 0.        , 0.4472136 ]])"
      ]
     },
     "execution_count": 73,
     "metadata": {
      "tags": []
     },
     "output_type": "execute_result"
    }
   ],
   "source": [
    "eig_vec"
   ]
  },
  {
   "cell_type": "code",
   "execution_count": null,
   "metadata": {
    "colab": {
     "base_uri": "https://localhost:8080/"
    },
    "executionInfo": {
     "elapsed": 677,
     "status": "ok",
     "timestamp": 1620062883890,
     "user": {
      "displayName": "장동익",
      "photoUrl": "https://lh5.googleusercontent.com/-L7hRKvTmkOA/AAAAAAAAAAI/AAAAAAAAI9s/916u10gQtQ4/s64/photo.jpg",
      "userId": "04826555714916653793"
     },
     "user_tz": -540
    },
    "id": "2dA9KCq4RQEI",
    "outputId": "d78a9049-9c8e-46af-d41e-4f4cee51efdb"
   },
   "outputs": [
    {
     "data": {
      "text/plain": [
       "array([0., 1., 0.])"
      ]
     },
     "execution_count": 75,
     "metadata": {
      "tags": []
     },
     "output_type": "execute_result"
    }
   ],
   "source": [
    "mat @ eig_vec[:, 0]"
   ]
  },
  {
   "cell_type": "code",
   "execution_count": null,
   "metadata": {
    "colab": {
     "base_uri": "https://localhost:8080/"
    },
    "executionInfo": {
     "elapsed": 1006,
     "status": "ok",
     "timestamp": 1620063047731,
     "user": {
      "displayName": "장동익",
      "photoUrl": "https://lh5.googleusercontent.com/-L7hRKvTmkOA/AAAAAAAAAAI/AAAAAAAAI9s/916u10gQtQ4/s64/photo.jpg",
      "userId": "04826555714916653793"
     },
     "user_tz": -540
    },
    "id": "627I4IINRfAX",
    "outputId": "544b3581-216b-452d-ad5e-310a9f3891b7"
   },
   "outputs": [
    {
     "data": {
      "text/plain": [
       "array([0., 1., 0.])"
      ]
     },
     "execution_count": 79,
     "metadata": {
      "tags": []
     },
     "output_type": "execute_result"
    }
   ],
   "source": [
    "eig_val[0] * eig_vec[:, 0] # (lambda) x"
   ]
  },
  {
   "cell_type": "code",
   "execution_count": null,
   "metadata": {
    "colab": {
     "base_uri": "https://localhost:8080/"
    },
    "executionInfo": {
     "elapsed": 881,
     "status": "ok",
     "timestamp": 1620063050203,
     "user": {
      "displayName": "장동익",
      "photoUrl": "https://lh5.googleusercontent.com/-L7hRKvTmkOA/AAAAAAAAAAI/AAAAAAAAI9s/916u10gQtQ4/s64/photo.jpg",
      "userId": "04826555714916653793"
     },
     "user_tz": -540
    },
    "id": "KRNEmi6MR4E4",
    "outputId": "8c224f2a-62b2-4c16-99cc-e641628df828"
   },
   "outputs": [
    {
     "data": {
      "text/plain": [
       "array([1.41421356, 1.41421356, 0.        ])"
      ]
     },
     "execution_count": 80,
     "metadata": {
      "tags": []
     },
     "output_type": "execute_result"
    }
   ],
   "source": [
    "mat @ eig_vec[:, 1]"
   ]
  },
  {
   "cell_type": "code",
   "execution_count": null,
   "metadata": {
    "colab": {
     "base_uri": "https://localhost:8080/"
    },
    "executionInfo": {
     "elapsed": 696,
     "status": "ok",
     "timestamp": 1620063052577,
     "user": {
      "displayName": "장동익",
      "photoUrl": "https://lh5.googleusercontent.com/-L7hRKvTmkOA/AAAAAAAAAAI/AAAAAAAAI9s/916u10gQtQ4/s64/photo.jpg",
      "userId": "04826555714916653793"
     },
     "user_tz": -540
    },
    "id": "qowXhA9gR35M",
    "outputId": "1593c096-56bd-4a89-af0d-780d595f23d4"
   },
   "outputs": [
    {
     "data": {
      "text/plain": [
       "array([1.41421356, 1.41421356, 0.        ])"
      ]
     },
     "execution_count": 81,
     "metadata": {
      "tags": []
     },
     "output_type": "execute_result"
    }
   ],
   "source": [
    "eig_val[1] * eig_vec[:, 1] # (lambda) x"
   ]
  },
  {
   "cell_type": "code",
   "execution_count": null,
   "metadata": {
    "colab": {
     "base_uri": "https://localhost:8080/"
    },
    "executionInfo": {
     "elapsed": 1453,
     "status": "ok",
     "timestamp": 1620063063042,
     "user": {
      "displayName": "장동익",
      "photoUrl": "https://lh5.googleusercontent.com/-L7hRKvTmkOA/AAAAAAAAAAI/AAAAAAAAI9s/916u10gQtQ4/s64/photo.jpg",
      "userId": "04826555714916653793"
     },
     "user_tz": -540
    },
    "id": "UVmIIrLCReu2",
    "outputId": "0d0d41bd-01a1-431a-919e-364c15ccaa38"
   },
   "outputs": [
    {
     "data": {
      "text/plain": [
       "array([0.89442719, 0.        , 0.4472136 ])"
      ]
     },
     "execution_count": 82,
     "metadata": {
      "tags": []
     },
     "output_type": "execute_result"
    }
   ],
   "source": [
    "mat @ eig_vec[:, 2]"
   ]
  },
  {
   "cell_type": "code",
   "execution_count": null,
   "metadata": {
    "colab": {
     "base_uri": "https://localhost:8080/"
    },
    "executionInfo": {
     "elapsed": 1264,
     "status": "ok",
     "timestamp": 1620063086562,
     "user": {
      "displayName": "장동익",
      "photoUrl": "https://lh5.googleusercontent.com/-L7hRKvTmkOA/AAAAAAAAAAI/AAAAAAAAI9s/916u10gQtQ4/s64/photo.jpg",
      "userId": "04826555714916653793"
     },
     "user_tz": -540
    },
    "id": "bI6SP-6pOik-",
    "outputId": "28cef2c6-9212-46b4-ac89-f6429fac74cf"
   },
   "outputs": [
    {
     "data": {
      "text/plain": [
       "array([0.89442719, 0.        , 0.4472136 ])"
      ]
     },
     "execution_count": 83,
     "metadata": {
      "tags": []
     },
     "output_type": "execute_result"
    }
   ],
   "source": [
    "eig_val[2] * eig_vec[:, 2] # (lambda) x"
   ]
  },
  {
   "cell_type": "markdown",
   "metadata": {
    "id": "640Ctg80v3_R"
   },
   "source": [
    "## IV. Exercises"
   ]
  },
  {
   "cell_type": "markdown",
   "metadata": {
    "id": "b8XWX6dbv3_R"
   },
   "source": [
    "### 1. 어떤 벡터가 주어졌을 때 L2 norm을 구하는 함수 `get_L2_norm()`을 작성하세요\n",
    "\n",
    "- **매개변수** : 1차원 벡터 (`np.array`)\n",
    "- **반환값** : 인자로 주어진 벡터의 L2 Norm값 (`number`)"
   ]
  },
  {
   "cell_type": "code",
   "execution_count": 3,
   "metadata": {
    "id": "U0jxMjnLv3_R",
    "outputId": "9d093720-2834-42b3-bae2-5f0a2f846430"
   },
   "outputs": [
    {
     "name": "stdout",
     "output_type": "stream",
     "text": [
      "5.0\n",
      "5.0\n"
     ]
    }
   ],
   "source": [
    "import numpy as np\n",
    "\n",
    "def get_L2_norm(vect):\n",
    "    return np.linalg.norm(vect)\n",
    "\n",
    "def get_L2_norm2(vect):\n",
    "    norm = 0\n",
    "    for i in vect:\n",
    "        norm += i * i\n",
    "    return np.sqrt(norm)\n",
    "\n",
    "test = np.array([3,4])\n",
    "print(get_L2_norm(test))\n",
    "print(get_L2_norm2(test))\n"
   ]
  },
  {
   "cell_type": "markdown",
   "metadata": {
    "id": "x6veRWQpv3_R"
   },
   "source": [
    "### 2. 어떤 행렬이 singular matrix인지 확인하는 함수 `is_singular()` 를 작성하세요\n",
    "\n",
    "- 매개변수 : 2차원 벡터(`np.array`)\n",
    "- 반환값 : 인자로 주어진 벡터가 singular하면 True, non-singular하면 False를 반환 "
   ]
  },
  {
   "cell_type": "code",
   "execution_count": 6,
   "metadata": {
    "id": "HqUlj0s1v3_S",
    "outputId": "4e850807-0c5b-4770-f430-20db0bc8f2be"
   },
   "outputs": [
    {
     "name": "stdout",
     "output_type": "stream",
     "text": [
      "True\n",
      "False\n",
      "True\n",
      "False\n"
     ]
    }
   ],
   "source": [
    "import numpy as np\n",
    "\n",
    "def is_singular(vect):\n",
    "    try:\n",
    "        np.linalg.inv(vect)\n",
    "        return False\n",
    "    except:\n",
    "        return True\n",
    "    \n",
    "def is_singular2(vect):\n",
    "    if np.linalg.det(vect) == 0:\n",
    "        return True\n",
    "    else:\n",
    "        return False\n",
    "\n",
    "test = [[2,3],[6,9]]\n",
    "test2 = [[1,2],[3,4]]\n",
    "\n",
    "print(is_singular(np.array(test)))\n",
    "print(is_singular(np.array(test2)))\n",
    "print(is_singular2(np.array(test)))\n",
    "print(is_singular2(np.array(test2)))"
   ]
  },
  {
   "cell_type": "code",
   "execution_count": null,
   "metadata": {
    "id": "87yZYZQVv3_S"
   },
   "outputs": [],
   "source": []
  }
 ],
 "metadata": {
  "colab": {
   "collapsed_sections": [],
   "name": "1. 파이썬의 컴퓨팅 라이브러리, numpy.ipynb",
   "provenance": []
  },
  "kernelspec": {
   "display_name": "Python 3",
   "language": "python",
   "name": "python3"
  },
  "language_info": {
   "codemirror_mode": {
    "name": "ipython",
    "version": 3
   },
   "file_extension": ".py",
   "mimetype": "text/x-python",
   "name": "python",
   "nbconvert_exporter": "python",
   "pygments_lexer": "ipython3",
   "version": "3.9.1"
  }
 },
 "nbformat": 4,
 "nbformat_minor": 1
}
