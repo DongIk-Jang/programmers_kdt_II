{
 "cells": [
  {
   "cell_type": "markdown",
   "id": "0d39a9df",
   "metadata": {},
   "source": [
    "# 4주차 Day5 Mission. Abengers, Assemble!"
   ]
  },
  {
   "cell_type": "markdown",
   "id": "4366f1a6",
   "metadata": {},
   "source": [
    "# Core Mission\n",
    "**다음 질문에 답하시오.**  \n",
    "- 캐릭터는 저마다 지능, 힘, ... 등 다양한 수치를 지니고 있다. 이러한 수치의 합이 가장 큰 캐릭터는 누구인가? 이를 보이기 위한 과정을 보여라.\n",
    "- 좋은 캐릭터와 나쁜 캐릭터의 능력치들의 수치 분포를 알고 싶다. 이를 표현하기 위한 적절한 그래프를 선택해서 이를 위한 전처리를 진행하고, 시각화하여라."
   ]
  },
  {
   "cell_type": "markdown",
   "id": "cb8e03c7",
   "metadata": {},
   "source": [
    "## 1. 수치의 합이 가장 큰 캐릭터는?"
   ]
  },
  {
   "cell_type": "code",
   "execution_count": 1,
   "id": "1942c07e",
   "metadata": {},
   "outputs": [],
   "source": [
    "import numpy as np\n",
    "import pandas as pd\n",
    "import matplotlib.pyplot as plt\n",
    "import seaborn as sns\n",
    "\n",
    "%matplotlib inline"
   ]
  },
  {
   "cell_type": "code",
   "execution_count": 2,
   "id": "f8c05714",
   "metadata": {},
   "outputs": [
    {
     "data": {
      "text/html": [
       "<div>\n",
       "<style scoped>\n",
       "    .dataframe tbody tr th:only-of-type {\n",
       "        vertical-align: middle;\n",
       "    }\n",
       "\n",
       "    .dataframe tbody tr th {\n",
       "        vertical-align: top;\n",
       "    }\n",
       "\n",
       "    .dataframe thead th {\n",
       "        text-align: right;\n",
       "    }\n",
       "</style>\n",
       "<table border=\"1\" class=\"dataframe\">\n",
       "  <thead>\n",
       "    <tr style=\"text-align: right;\">\n",
       "      <th></th>\n",
       "      <th>Name</th>\n",
       "      <th>Alignment</th>\n",
       "      <th>Intelligence</th>\n",
       "      <th>Strength</th>\n",
       "      <th>Speed</th>\n",
       "      <th>Durability</th>\n",
       "      <th>Power</th>\n",
       "      <th>Combat</th>\n",
       "      <th>Total</th>\n",
       "    </tr>\n",
       "  </thead>\n",
       "  <tbody>\n",
       "    <tr>\n",
       "      <th>0</th>\n",
       "      <td>3-D Man</td>\n",
       "      <td>good</td>\n",
       "      <td>50</td>\n",
       "      <td>31</td>\n",
       "      <td>43</td>\n",
       "      <td>32</td>\n",
       "      <td>25</td>\n",
       "      <td>52</td>\n",
       "      <td>233</td>\n",
       "    </tr>\n",
       "    <tr>\n",
       "      <th>1</th>\n",
       "      <td>A-Bomb</td>\n",
       "      <td>good</td>\n",
       "      <td>38</td>\n",
       "      <td>100</td>\n",
       "      <td>17</td>\n",
       "      <td>80</td>\n",
       "      <td>17</td>\n",
       "      <td>64</td>\n",
       "      <td>316</td>\n",
       "    </tr>\n",
       "    <tr>\n",
       "      <th>2</th>\n",
       "      <td>Abe Sapien</td>\n",
       "      <td>good</td>\n",
       "      <td>88</td>\n",
       "      <td>14</td>\n",
       "      <td>35</td>\n",
       "      <td>42</td>\n",
       "      <td>35</td>\n",
       "      <td>85</td>\n",
       "      <td>299</td>\n",
       "    </tr>\n",
       "    <tr>\n",
       "      <th>3</th>\n",
       "      <td>Abin Sur</td>\n",
       "      <td>good</td>\n",
       "      <td>50</td>\n",
       "      <td>90</td>\n",
       "      <td>53</td>\n",
       "      <td>64</td>\n",
       "      <td>84</td>\n",
       "      <td>65</td>\n",
       "      <td>406</td>\n",
       "    </tr>\n",
       "    <tr>\n",
       "      <th>4</th>\n",
       "      <td>Abomination</td>\n",
       "      <td>bad</td>\n",
       "      <td>63</td>\n",
       "      <td>80</td>\n",
       "      <td>53</td>\n",
       "      <td>90</td>\n",
       "      <td>55</td>\n",
       "      <td>95</td>\n",
       "      <td>436</td>\n",
       "    </tr>\n",
       "  </tbody>\n",
       "</table>\n",
       "</div>"
      ],
      "text/plain": [
       "          Name Alignment  Intelligence  Strength  Speed  Durability  Power  \\\n",
       "0      3-D Man      good            50        31     43          32     25   \n",
       "1       A-Bomb      good            38       100     17          80     17   \n",
       "2   Abe Sapien      good            88        14     35          42     35   \n",
       "3     Abin Sur      good            50        90     53          64     84   \n",
       "4  Abomination       bad            63        80     53          90     55   \n",
       "\n",
       "   Combat  Total  \n",
       "0      52    233  \n",
       "1      64    316  \n",
       "2      85    299  \n",
       "3      65    406  \n",
       "4      95    436  "
      ]
     },
     "execution_count": 2,
     "metadata": {},
     "output_type": "execute_result"
    }
   ],
   "source": [
    "abengers_df = pd.read_csv('./charcters_stats.csv')\n",
    "abengers_df.head(5)"
   ]
  },
  {
   "cell_type": "code",
   "execution_count": 3,
   "id": "a8bb776e",
   "metadata": {},
   "outputs": [
    {
     "data": {
      "text/plain": [
       "Name            object\n",
       "Alignment       object\n",
       "Intelligence     int64\n",
       "Strength         int64\n",
       "Speed            int64\n",
       "Durability       int64\n",
       "Power            int64\n",
       "Combat           int64\n",
       "Total            int64\n",
       "dtype: object"
      ]
     },
     "execution_count": 3,
     "metadata": {},
     "output_type": "execute_result"
    }
   ],
   "source": [
    "abengers_df.dtypes"
   ]
  },
  {
   "cell_type": "code",
   "execution_count": 4,
   "id": "da9fe545",
   "metadata": {},
   "outputs": [
    {
     "data": {
      "text/html": [
       "<div>\n",
       "<style scoped>\n",
       "    .dataframe tbody tr th:only-of-type {\n",
       "        vertical-align: middle;\n",
       "    }\n",
       "\n",
       "    .dataframe tbody tr th {\n",
       "        vertical-align: top;\n",
       "    }\n",
       "\n",
       "    .dataframe thead th {\n",
       "        text-align: right;\n",
       "    }\n",
       "</style>\n",
       "<table border=\"1\" class=\"dataframe\">\n",
       "  <thead>\n",
       "    <tr style=\"text-align: right;\">\n",
       "      <th></th>\n",
       "      <th>Name</th>\n",
       "      <th>Alignment</th>\n",
       "      <th>Intelligence</th>\n",
       "      <th>Strength</th>\n",
       "      <th>Speed</th>\n",
       "      <th>Durability</th>\n",
       "      <th>Power</th>\n",
       "      <th>Combat</th>\n",
       "      <th>Total</th>\n",
       "    </tr>\n",
       "  </thead>\n",
       "  <tbody>\n",
       "    <tr>\n",
       "      <th>361</th>\n",
       "      <td>Martian Manhunter</td>\n",
       "      <td>good</td>\n",
       "      <td>100</td>\n",
       "      <td>100</td>\n",
       "      <td>96</td>\n",
       "      <td>100</td>\n",
       "      <td>100</td>\n",
       "      <td>85</td>\n",
       "      <td>581</td>\n",
       "    </tr>\n",
       "    <tr>\n",
       "      <th>242</th>\n",
       "      <td>General Zod</td>\n",
       "      <td>bad</td>\n",
       "      <td>94</td>\n",
       "      <td>100</td>\n",
       "      <td>96</td>\n",
       "      <td>100</td>\n",
       "      <td>94</td>\n",
       "      <td>95</td>\n",
       "      <td>579</td>\n",
       "    </tr>\n",
       "    <tr>\n",
       "      <th>535</th>\n",
       "      <td>Superboy-Prime</td>\n",
       "      <td>bad</td>\n",
       "      <td>94</td>\n",
       "      <td>100</td>\n",
       "      <td>100</td>\n",
       "      <td>100</td>\n",
       "      <td>100</td>\n",
       "      <td>85</td>\n",
       "      <td>579</td>\n",
       "    </tr>\n",
       "    <tr>\n",
       "      <th>537</th>\n",
       "      <td>Superman</td>\n",
       "      <td>good</td>\n",
       "      <td>100</td>\n",
       "      <td>100</td>\n",
       "      <td>100</td>\n",
       "      <td>100</td>\n",
       "      <td>94</td>\n",
       "      <td>85</td>\n",
       "      <td>579</td>\n",
       "    </tr>\n",
       "    <tr>\n",
       "      <th>16</th>\n",
       "      <td>Amazo</td>\n",
       "      <td>bad</td>\n",
       "      <td>75</td>\n",
       "      <td>100</td>\n",
       "      <td>100</td>\n",
       "      <td>100</td>\n",
       "      <td>100</td>\n",
       "      <td>100</td>\n",
       "      <td>575</td>\n",
       "    </tr>\n",
       "    <tr>\n",
       "      <th>525</th>\n",
       "      <td>Stardust</td>\n",
       "      <td>good</td>\n",
       "      <td>88</td>\n",
       "      <td>85</td>\n",
       "      <td>100</td>\n",
       "      <td>110</td>\n",
       "      <td>100</td>\n",
       "      <td>85</td>\n",
       "      <td>568</td>\n",
       "    </tr>\n",
       "    <tr>\n",
       "      <th>238</th>\n",
       "      <td>Galactus</td>\n",
       "      <td>neutral</td>\n",
       "      <td>100</td>\n",
       "      <td>100</td>\n",
       "      <td>83</td>\n",
       "      <td>100</td>\n",
       "      <td>100</td>\n",
       "      <td>70</td>\n",
       "      <td>553</td>\n",
       "    </tr>\n",
       "    <tr>\n",
       "      <th>82</th>\n",
       "      <td>Bizarro</td>\n",
       "      <td>neutral</td>\n",
       "      <td>75</td>\n",
       "      <td>95</td>\n",
       "      <td>100</td>\n",
       "      <td>100</td>\n",
       "      <td>95</td>\n",
       "      <td>85</td>\n",
       "      <td>550</td>\n",
       "    </tr>\n",
       "    <tr>\n",
       "      <th>203</th>\n",
       "      <td>Dormammu</td>\n",
       "      <td>bad</td>\n",
       "      <td>88</td>\n",
       "      <td>95</td>\n",
       "      <td>83</td>\n",
       "      <td>100</td>\n",
       "      <td>100</td>\n",
       "      <td>80</td>\n",
       "      <td>546</td>\n",
       "    </tr>\n",
       "    <tr>\n",
       "      <th>546</th>\n",
       "      <td>Thor</td>\n",
       "      <td>good</td>\n",
       "      <td>69</td>\n",
       "      <td>100</td>\n",
       "      <td>92</td>\n",
       "      <td>100</td>\n",
       "      <td>100</td>\n",
       "      <td>85</td>\n",
       "      <td>546</td>\n",
       "    </tr>\n",
       "  </tbody>\n",
       "</table>\n",
       "</div>"
      ],
      "text/plain": [
       "                  Name Alignment  Intelligence  Strength  Speed  Durability  \\\n",
       "361  Martian Manhunter      good           100       100     96         100   \n",
       "242        General Zod       bad            94       100     96         100   \n",
       "535     Superboy-Prime       bad            94       100    100         100   \n",
       "537           Superman      good           100       100    100         100   \n",
       "16               Amazo       bad            75       100    100         100   \n",
       "525           Stardust      good            88        85    100         110   \n",
       "238           Galactus   neutral           100       100     83         100   \n",
       "82             Bizarro   neutral            75        95    100         100   \n",
       "203           Dormammu       bad            88        95     83         100   \n",
       "546               Thor      good            69       100     92         100   \n",
       "\n",
       "     Power  Combat  Total  \n",
       "361    100      85    581  \n",
       "242     94      95    579  \n",
       "535    100      85    579  \n",
       "537     94      85    579  \n",
       "16     100     100    575  \n",
       "525    100      85    568  \n",
       "238    100      70    553  \n",
       "82      95      85    550  \n",
       "203    100      80    546  \n",
       "546    100      85    546  "
      ]
     },
     "execution_count": 4,
     "metadata": {},
     "output_type": "execute_result"
    }
   ],
   "source": [
    "abengers_df.sort_values('Total', ascending=False).head(10)"
   ]
  },
  {
   "cell_type": "code",
   "execution_count": 5,
   "id": "e6280316",
   "metadata": {},
   "outputs": [],
   "source": [
    "# 만약 Total Column이 없었다면 다음과 같은 방식으로 구해낼 수 있었을 것이다.\n",
    "# abengers_df['try1']= abengers_df['Intelligence']+ abengers_df['Strength'] + abengers_df['Speed'] + abengers_df['Durability'] + abengers_df['Power'] + abengers_df['Combat']\n",
    "# abengers_df['try22'] = abengers_df[['Intelligence','Strength','Speed','Durability','Power','Combat']].sum(1)\n",
    "# abengers_df.sort_values('try2', ascending=False).head(10)"
   ]
  },
  {
   "cell_type": "markdown",
   "id": "1ed13f79",
   "metadata": {},
   "source": [
    "### 수치의 합이 가장 큰 캐릭터는 Martian Manhunter!"
   ]
  },
  {
   "cell_type": "markdown",
   "id": "cdc3ec76",
   "metadata": {},
   "source": [
    "그 외에도 10위권 안에 Superman, Dormammu, Thor 등이 포함되어있다."
   ]
  },
  {
   "cell_type": "markdown",
   "id": "329f0e99",
   "metadata": {},
   "source": [
    "## 2. 좋은 캐릭터와 나쁜 캐릭터의 능력치의 수치 분포 그래프"
   ]
  },
  {
   "cell_type": "code",
   "execution_count": 6,
   "id": "8876256e",
   "metadata": {},
   "outputs": [
    {
     "data": {
      "text/html": [
       "<div>\n",
       "<style scoped>\n",
       "    .dataframe tbody tr th:only-of-type {\n",
       "        vertical-align: middle;\n",
       "    }\n",
       "\n",
       "    .dataframe tbody tr th {\n",
       "        vertical-align: top;\n",
       "    }\n",
       "\n",
       "    .dataframe thead th {\n",
       "        text-align: right;\n",
       "    }\n",
       "</style>\n",
       "<table border=\"1\" class=\"dataframe\">\n",
       "  <thead>\n",
       "    <tr style=\"text-align: right;\">\n",
       "      <th></th>\n",
       "      <th>Intelligence</th>\n",
       "      <th>Strength</th>\n",
       "      <th>Speed</th>\n",
       "      <th>Durability</th>\n",
       "      <th>Power</th>\n",
       "      <th>Combat</th>\n",
       "      <th>Total</th>\n",
       "    </tr>\n",
       "    <tr>\n",
       "      <th>Alignment</th>\n",
       "      <th></th>\n",
       "      <th></th>\n",
       "      <th></th>\n",
       "      <th></th>\n",
       "      <th></th>\n",
       "      <th></th>\n",
       "      <th></th>\n",
       "    </tr>\n",
       "  </thead>\n",
       "  <tbody>\n",
       "    <tr>\n",
       "      <th>bad</th>\n",
       "      <td>50.018182</td>\n",
       "      <td>34.363636</td>\n",
       "      <td>27.684848</td>\n",
       "      <td>46.284848</td>\n",
       "      <td>44.230303</td>\n",
       "      <td>44.630303</td>\n",
       "      <td>247.212121</td>\n",
       "    </tr>\n",
       "    <tr>\n",
       "      <th>good</th>\n",
       "      <td>41.995370</td>\n",
       "      <td>26.638889</td>\n",
       "      <td>26.685185</td>\n",
       "      <td>39.293981</td>\n",
       "      <td>38.291667</td>\n",
       "      <td>42.085648</td>\n",
       "      <td>214.990741</td>\n",
       "    </tr>\n",
       "    <tr>\n",
       "      <th>neutral</th>\n",
       "      <td>60.909091</td>\n",
       "      <td>45.727273</td>\n",
       "      <td>46.727273</td>\n",
       "      <td>75.545455</td>\n",
       "      <td>58.818182</td>\n",
       "      <td>67.636364</td>\n",
       "      <td>355.363636</td>\n",
       "    </tr>\n",
       "  </tbody>\n",
       "</table>\n",
       "</div>"
      ],
      "text/plain": [
       "           Intelligence   Strength      Speed  Durability      Power  \\\n",
       "Alignment                                                              \n",
       "bad           50.018182  34.363636  27.684848   46.284848  44.230303   \n",
       "good          41.995370  26.638889  26.685185   39.293981  38.291667   \n",
       "neutral       60.909091  45.727273  46.727273   75.545455  58.818182   \n",
       "\n",
       "              Combat       Total  \n",
       "Alignment                         \n",
       "bad        44.630303  247.212121  \n",
       "good       42.085648  214.990741  \n",
       "neutral    67.636364  355.363636  "
      ]
     },
     "execution_count": 6,
     "metadata": {},
     "output_type": "execute_result"
    }
   ],
   "source": [
    "# 좋은, 중립, 나쁜 캐릭터로 그룹바이 진행\n",
    "abengers_df.groupby('Alignment').mean()"
   ]
  },
  {
   "cell_type": "code",
   "execution_count": 7,
   "id": "8429fac1",
   "metadata": {},
   "outputs": [
    {
     "data": {
      "text/html": [
       "<div>\n",
       "<style scoped>\n",
       "    .dataframe tbody tr th:only-of-type {\n",
       "        vertical-align: middle;\n",
       "    }\n",
       "\n",
       "    .dataframe tbody tr th {\n",
       "        vertical-align: top;\n",
       "    }\n",
       "\n",
       "    .dataframe thead th {\n",
       "        text-align: right;\n",
       "    }\n",
       "</style>\n",
       "<table border=\"1\" class=\"dataframe\">\n",
       "  <thead>\n",
       "    <tr style=\"text-align: right;\">\n",
       "      <th></th>\n",
       "      <th>bad</th>\n",
       "      <th>good</th>\n",
       "      <th>neutral</th>\n",
       "    </tr>\n",
       "  </thead>\n",
       "  <tbody>\n",
       "    <tr>\n",
       "      <th>Combat</th>\n",
       "      <td>44.630303</td>\n",
       "      <td>42.085648</td>\n",
       "      <td>67.636364</td>\n",
       "    </tr>\n",
       "    <tr>\n",
       "      <th>Durability</th>\n",
       "      <td>46.284848</td>\n",
       "      <td>39.293981</td>\n",
       "      <td>75.545455</td>\n",
       "    </tr>\n",
       "    <tr>\n",
       "      <th>Intelligence</th>\n",
       "      <td>50.018182</td>\n",
       "      <td>41.995370</td>\n",
       "      <td>60.909091</td>\n",
       "    </tr>\n",
       "    <tr>\n",
       "      <th>Power</th>\n",
       "      <td>44.230303</td>\n",
       "      <td>38.291667</td>\n",
       "      <td>58.818182</td>\n",
       "    </tr>\n",
       "    <tr>\n",
       "      <th>Speed</th>\n",
       "      <td>27.684848</td>\n",
       "      <td>26.685185</td>\n",
       "      <td>46.727273</td>\n",
       "    </tr>\n",
       "    <tr>\n",
       "      <th>Strength</th>\n",
       "      <td>34.363636</td>\n",
       "      <td>26.638889</td>\n",
       "      <td>45.727273</td>\n",
       "    </tr>\n",
       "    <tr>\n",
       "      <th>Total</th>\n",
       "      <td>247.212121</td>\n",
       "      <td>214.990741</td>\n",
       "      <td>355.363636</td>\n",
       "    </tr>\n",
       "  </tbody>\n",
       "</table>\n",
       "</div>"
      ],
      "text/plain": [
       "                     bad        good     neutral\n",
       "Combat         44.630303   42.085648   67.636364\n",
       "Durability     46.284848   39.293981   75.545455\n",
       "Intelligence   50.018182   41.995370   60.909091\n",
       "Power          44.230303   38.291667   58.818182\n",
       "Speed          27.684848   26.685185   46.727273\n",
       "Strength       34.363636   26.638889   45.727273\n",
       "Total         247.212121  214.990741  355.363636"
      ]
     },
     "execution_count": 7,
     "metadata": {},
     "output_type": "execute_result"
    }
   ],
   "source": [
    "# 그래프를 그려주기 위해 pivot_table을 해줬다.\n",
    "data = pd.pivot_table(abengers_df.groupby('Alignment').mean(), columns=['bad', 'good', 'neutral'])\n",
    "data"
   ]
  },
  {
   "cell_type": "code",
   "execution_count": 8,
   "id": "9a05f1af",
   "metadata": {},
   "outputs": [
    {
     "data": {
      "image/png": "[encoded data removed]",
      "text/plain": [
       "<Figure size 432x288 with 1 Axes>"
      ]
     },
     "metadata": {
      "needs_background": "light"
     },
     "output_type": "display_data"
    }
   ],
   "source": [
    "data[:][:-1].plot()\n",
    "plt.title('Stats')\n",
    "plt.show()"
   ]
  },
  {
   "cell_type": "markdown",
   "id": "8d2c64d5",
   "metadata": {},
   "source": [
    "나쁜 애들이 좋은 애들보다 더 강력하다. 그리고 최고 강력한 아이들은 중립을 지키는 아이들이다."
   ]
  },
  {
   "cell_type": "code",
   "execution_count": 9,
   "id": "2715f2a1",
   "metadata": {},
   "outputs": [
    {
     "data": {
      "image/png": "[encoded data removed]",
      "text/plain": [
       "<Figure size 432x288 with 1 Axes>"
      ]
     },
     "metadata": {
      "needs_background": "light"
     },
     "output_type": "display_data"
    }
   ],
   "source": [
    "sns.pointplot(x='Alignment', y='Total', data=abengers_df)\n",
    "plt.title('Total Power-Alignment')\n",
    "plt.show()"
   ]
  },
  {
   "cell_type": "markdown",
   "id": "35f0cea1",
   "metadata": {},
   "source": [
    "모든 Stats의 합인 Total 값을 비교해보면 좋은 캐릭터보다 나쁜 캐릭터가 강력할 확률이 더 높고 중립의 캐릭터는 그보다 더 강력할 확률이 높음을 알 수 있다."
   ]
  }
 ],
 "metadata": {
  "kernelspec": {
   "display_name": "Python 3",
   "language": "python",
   "name": "python3"
  },
  "language_info": {
   "codemirror_mode": {
    "name": "ipython",
    "version": 3
   },
   "file_extension": ".py",
   "mimetype": "text/x-python",
   "name": "python",
   "nbconvert_exporter": "python",
   "pygments_lexer": "ipython3",
   "version": "3.9.1"
  }
 },
 "nbformat": 4,
 "nbformat_minor": 5
}
